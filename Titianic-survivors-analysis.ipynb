{
 "cells": [
  {
   "cell_type": "code",
   "execution_count": 1,
   "metadata": {
    "_cell_guid": "b1076dfc-b9ad-4769-8c92-a6c4dae69d19",
    "_uuid": "8f2839f25d086af736a60e9eeb907d3b93b6e0e5",
    "execution": {
     "iopub.execute_input": "2020-11-23T19:47:47.413849Z",
     "iopub.status.busy": "2020-11-23T19:47:47.412935Z",
     "iopub.status.idle": "2020-11-23T19:47:48.697981Z",
     "shell.execute_reply": "2020-11-23T19:47:48.697349Z"
    },
    "papermill": {
     "duration": 1.313812,
     "end_time": "2020-11-23T19:47:48.698110",
     "exception": false,
     "start_time": "2020-11-23T19:47:47.384298",
     "status": "completed"
    },
    "tags": []
   },
   "outputs": [
    {
     "name": "stdout",
     "output_type": "stream",
     "text": [
      "/kaggle/input/titanic/gender_submission.csv\n",
      "/kaggle/input/titanic/test.csv\n",
      "/kaggle/input/titanic/train.csv\n"
     ]
    }
   ],
   "source": [
    "# This Python 3 environment comes with many helpful analytics libraries installed\n",
    "# It is defined by the kaggle/python Docker image: https://github.com/kaggle/docker-python\n",
    "# For example, here's several helpful packages to load\n",
    "\n",
    "import numpy as np # linear algebra\n",
    "import pandas as pd # data processing, CSV file I/O (e.g. pd.read_csv)\n",
    "import matplotlib.pyplot as plt\n",
    "import seaborn as sns\n",
    "from sklearn.linear_model import LogisticRegression\n",
    "from sklearn.neighbors import KNeighborsClassifier\n",
    "from sklearn.svm import SVC\n",
    "from sklearn.metrics import accuracy_score\n",
    "from sklearn.tree import DecisionTreeClassifier\n",
    "%matplotlib inline\n",
    "\n",
    "# Input data files are available in the read-only \"../input/\" directory\n",
    "# For example, running this (by clicking run or pressing Shift+Enter) will list all files under the input directory\n",
    "\n",
    "import os\n",
    "for dirname, _, filenames in os.walk('/kaggle/input'):\n",
    "    for filename in filenames:\n",
    "        print(os.path.join(dirname, filename))\n",
    "\n",
    "# You can write up to 20GB to the current directory (/kaggle/working/) that gets preserved as output when you create a version using \"Save & Run All\" \n",
    "# You can also write temporary files to /kaggle/temp/, but they won't be saved outside of the current session"
   ]
  },
  {
   "cell_type": "code",
   "execution_count": 2,
   "metadata": {
    "_cell_guid": "79c7e3d0-c299-4dcb-8224-4455121ee9b0",
    "_uuid": "d629ff2d2480ee46fbb7e2d37f6b5fab8052498a",
    "execution": {
     "iopub.execute_input": "2020-11-23T19:47:48.742816Z",
     "iopub.status.busy": "2020-11-23T19:47:48.741791Z",
     "iopub.status.idle": "2020-11-23T19:47:48.784560Z",
     "shell.execute_reply": "2020-11-23T19:47:48.785080Z"
    },
    "papermill": {
     "duration": 0.068551,
     "end_time": "2020-11-23T19:47:48.785256",
     "exception": false,
     "start_time": "2020-11-23T19:47:48.716705",
     "status": "completed"
    },
    "tags": []
   },
   "outputs": [
    {
     "data": {
      "text/html": [
       "<div>\n",
       "<style scoped>\n",
       "    .dataframe tbody tr th:only-of-type {\n",
       "        vertical-align: middle;\n",
       "    }\n",
       "\n",
       "    .dataframe tbody tr th {\n",
       "        vertical-align: top;\n",
       "    }\n",
       "\n",
       "    .dataframe thead th {\n",
       "        text-align: right;\n",
       "    }\n",
       "</style>\n",
       "<table border=\"1\" class=\"dataframe\">\n",
       "  <thead>\n",
       "    <tr style=\"text-align: right;\">\n",
       "      <th></th>\n",
       "      <th>PassengerId</th>\n",
       "      <th>Survived</th>\n",
       "      <th>Pclass</th>\n",
       "      <th>Name</th>\n",
       "      <th>Sex</th>\n",
       "      <th>Age</th>\n",
       "      <th>SibSp</th>\n",
       "      <th>Parch</th>\n",
       "      <th>Ticket</th>\n",
       "      <th>Fare</th>\n",
       "      <th>Cabin</th>\n",
       "      <th>Embarked</th>\n",
       "    </tr>\n",
       "  </thead>\n",
       "  <tbody>\n",
       "    <tr>\n",
       "      <th>0</th>\n",
       "      <td>1</td>\n",
       "      <td>0</td>\n",
       "      <td>3</td>\n",
       "      <td>Braund, Mr. Owen Harris</td>\n",
       "      <td>male</td>\n",
       "      <td>22.0</td>\n",
       "      <td>1</td>\n",
       "      <td>0</td>\n",
       "      <td>A/5 21171</td>\n",
       "      <td>7.2500</td>\n",
       "      <td>NaN</td>\n",
       "      <td>S</td>\n",
       "    </tr>\n",
       "    <tr>\n",
       "      <th>1</th>\n",
       "      <td>2</td>\n",
       "      <td>1</td>\n",
       "      <td>1</td>\n",
       "      <td>Cumings, Mrs. John Bradley (Florence Briggs Th...</td>\n",
       "      <td>female</td>\n",
       "      <td>38.0</td>\n",
       "      <td>1</td>\n",
       "      <td>0</td>\n",
       "      <td>PC 17599</td>\n",
       "      <td>71.2833</td>\n",
       "      <td>C85</td>\n",
       "      <td>C</td>\n",
       "    </tr>\n",
       "    <tr>\n",
       "      <th>2</th>\n",
       "      <td>3</td>\n",
       "      <td>1</td>\n",
       "      <td>3</td>\n",
       "      <td>Heikkinen, Miss. Laina</td>\n",
       "      <td>female</td>\n",
       "      <td>26.0</td>\n",
       "      <td>0</td>\n",
       "      <td>0</td>\n",
       "      <td>STON/O2. 3101282</td>\n",
       "      <td>7.9250</td>\n",
       "      <td>NaN</td>\n",
       "      <td>S</td>\n",
       "    </tr>\n",
       "    <tr>\n",
       "      <th>3</th>\n",
       "      <td>4</td>\n",
       "      <td>1</td>\n",
       "      <td>1</td>\n",
       "      <td>Futrelle, Mrs. Jacques Heath (Lily May Peel)</td>\n",
       "      <td>female</td>\n",
       "      <td>35.0</td>\n",
       "      <td>1</td>\n",
       "      <td>0</td>\n",
       "      <td>113803</td>\n",
       "      <td>53.1000</td>\n",
       "      <td>C123</td>\n",
       "      <td>S</td>\n",
       "    </tr>\n",
       "    <tr>\n",
       "      <th>4</th>\n",
       "      <td>5</td>\n",
       "      <td>0</td>\n",
       "      <td>3</td>\n",
       "      <td>Allen, Mr. William Henry</td>\n",
       "      <td>male</td>\n",
       "      <td>35.0</td>\n",
       "      <td>0</td>\n",
       "      <td>0</td>\n",
       "      <td>373450</td>\n",
       "      <td>8.0500</td>\n",
       "      <td>NaN</td>\n",
       "      <td>S</td>\n",
       "    </tr>\n",
       "  </tbody>\n",
       "</table>\n",
       "</div>"
      ],
      "text/plain": [
       "   PassengerId  Survived  Pclass  \\\n",
       "0            1         0       3   \n",
       "1            2         1       1   \n",
       "2            3         1       3   \n",
       "3            4         1       1   \n",
       "4            5         0       3   \n",
       "\n",
       "                                                Name     Sex   Age  SibSp  \\\n",
       "0                            Braund, Mr. Owen Harris    male  22.0      1   \n",
       "1  Cumings, Mrs. John Bradley (Florence Briggs Th...  female  38.0      1   \n",
       "2                             Heikkinen, Miss. Laina  female  26.0      0   \n",
       "3       Futrelle, Mrs. Jacques Heath (Lily May Peel)  female  35.0      1   \n",
       "4                           Allen, Mr. William Henry    male  35.0      0   \n",
       "\n",
       "   Parch            Ticket     Fare Cabin Embarked  \n",
       "0      0         A/5 21171   7.2500   NaN        S  \n",
       "1      0          PC 17599  71.2833   C85        C  \n",
       "2      0  STON/O2. 3101282   7.9250   NaN        S  \n",
       "3      0            113803  53.1000  C123        S  \n",
       "4      0            373450   8.0500   NaN        S  "
      ]
     },
     "execution_count": 2,
     "metadata": {},
     "output_type": "execute_result"
    }
   ],
   "source": [
    "train_set = pd.read_csv('/kaggle/input/titanic/train.csv')\n",
    "test_set = pd.read_csv('/kaggle/input/titanic/test.csv')\n",
    "train_test = [train_set,test_set]\n",
    "train_set.head()"
   ]
  },
  {
   "cell_type": "code",
   "execution_count": 3,
   "metadata": {
    "execution": {
     "iopub.execute_input": "2020-11-23T19:47:48.839599Z",
     "iopub.status.busy": "2020-11-23T19:47:48.838851Z",
     "iopub.status.idle": "2020-11-23T19:47:48.844397Z",
     "shell.execute_reply": "2020-11-23T19:47:48.843565Z"
    },
    "papermill": {
     "duration": 0.038091,
     "end_time": "2020-11-23T19:47:48.844533",
     "exception": false,
     "start_time": "2020-11-23T19:47:48.806442",
     "status": "completed"
    },
    "tags": []
   },
   "outputs": [
    {
     "name": "stdout",
     "output_type": "stream",
     "text": [
      "<class 'pandas.core.frame.DataFrame'>\n",
      "RangeIndex: 891 entries, 0 to 890\n",
      "Data columns (total 12 columns):\n",
      " #   Column       Non-Null Count  Dtype  \n",
      "---  ------       --------------  -----  \n",
      " 0   PassengerId  891 non-null    int64  \n",
      " 1   Survived     891 non-null    int64  \n",
      " 2   Pclass       891 non-null    int64  \n",
      " 3   Name         891 non-null    object \n",
      " 4   Sex          891 non-null    object \n",
      " 5   Age          714 non-null    float64\n",
      " 6   SibSp        891 non-null    int64  \n",
      " 7   Parch        891 non-null    int64  \n",
      " 8   Ticket       891 non-null    object \n",
      " 9   Fare         891 non-null    float64\n",
      " 10  Cabin        204 non-null    object \n",
      " 11  Embarked     889 non-null    object \n",
      "dtypes: float64(2), int64(5), object(5)\n",
      "memory usage: 83.7+ KB\n"
     ]
    }
   ],
   "source": [
    "train_set.info()"
   ]
  },
  {
   "cell_type": "code",
   "execution_count": 4,
   "metadata": {
    "execution": {
     "iopub.execute_input": "2020-11-23T19:47:48.894512Z",
     "iopub.status.busy": "2020-11-23T19:47:48.893388Z",
     "iopub.status.idle": "2020-11-23T19:47:48.926611Z",
     "shell.execute_reply": "2020-11-23T19:47:48.926083Z"
    },
    "papermill": {
     "duration": 0.063046,
     "end_time": "2020-11-23T19:47:48.926753",
     "exception": false,
     "start_time": "2020-11-23T19:47:48.863707",
     "status": "completed"
    },
    "tags": []
   },
   "outputs": [
    {
     "data": {
      "text/html": [
       "<div>\n",
       "<style scoped>\n",
       "    .dataframe tbody tr th:only-of-type {\n",
       "        vertical-align: middle;\n",
       "    }\n",
       "\n",
       "    .dataframe tbody tr th {\n",
       "        vertical-align: top;\n",
       "    }\n",
       "\n",
       "    .dataframe thead th {\n",
       "        text-align: right;\n",
       "    }\n",
       "</style>\n",
       "<table border=\"1\" class=\"dataframe\">\n",
       "  <thead>\n",
       "    <tr style=\"text-align: right;\">\n",
       "      <th></th>\n",
       "      <th>PassengerId</th>\n",
       "      <th>Survived</th>\n",
       "      <th>Pclass</th>\n",
       "      <th>Age</th>\n",
       "      <th>SibSp</th>\n",
       "      <th>Parch</th>\n",
       "      <th>Fare</th>\n",
       "    </tr>\n",
       "  </thead>\n",
       "  <tbody>\n",
       "    <tr>\n",
       "      <th>count</th>\n",
       "      <td>891.000000</td>\n",
       "      <td>891.000000</td>\n",
       "      <td>891.000000</td>\n",
       "      <td>714.000000</td>\n",
       "      <td>891.000000</td>\n",
       "      <td>891.000000</td>\n",
       "      <td>891.000000</td>\n",
       "    </tr>\n",
       "    <tr>\n",
       "      <th>mean</th>\n",
       "      <td>446.000000</td>\n",
       "      <td>0.383838</td>\n",
       "      <td>2.308642</td>\n",
       "      <td>29.699118</td>\n",
       "      <td>0.523008</td>\n",
       "      <td>0.381594</td>\n",
       "      <td>32.204208</td>\n",
       "    </tr>\n",
       "    <tr>\n",
       "      <th>std</th>\n",
       "      <td>257.353842</td>\n",
       "      <td>0.486592</td>\n",
       "      <td>0.836071</td>\n",
       "      <td>14.526497</td>\n",
       "      <td>1.102743</td>\n",
       "      <td>0.806057</td>\n",
       "      <td>49.693429</td>\n",
       "    </tr>\n",
       "    <tr>\n",
       "      <th>min</th>\n",
       "      <td>1.000000</td>\n",
       "      <td>0.000000</td>\n",
       "      <td>1.000000</td>\n",
       "      <td>0.420000</td>\n",
       "      <td>0.000000</td>\n",
       "      <td>0.000000</td>\n",
       "      <td>0.000000</td>\n",
       "    </tr>\n",
       "    <tr>\n",
       "      <th>25%</th>\n",
       "      <td>223.500000</td>\n",
       "      <td>0.000000</td>\n",
       "      <td>2.000000</td>\n",
       "      <td>20.125000</td>\n",
       "      <td>0.000000</td>\n",
       "      <td>0.000000</td>\n",
       "      <td>7.910400</td>\n",
       "    </tr>\n",
       "    <tr>\n",
       "      <th>50%</th>\n",
       "      <td>446.000000</td>\n",
       "      <td>0.000000</td>\n",
       "      <td>3.000000</td>\n",
       "      <td>28.000000</td>\n",
       "      <td>0.000000</td>\n",
       "      <td>0.000000</td>\n",
       "      <td>14.454200</td>\n",
       "    </tr>\n",
       "    <tr>\n",
       "      <th>75%</th>\n",
       "      <td>668.500000</td>\n",
       "      <td>1.000000</td>\n",
       "      <td>3.000000</td>\n",
       "      <td>38.000000</td>\n",
       "      <td>1.000000</td>\n",
       "      <td>0.000000</td>\n",
       "      <td>31.000000</td>\n",
       "    </tr>\n",
       "    <tr>\n",
       "      <th>max</th>\n",
       "      <td>891.000000</td>\n",
       "      <td>1.000000</td>\n",
       "      <td>3.000000</td>\n",
       "      <td>80.000000</td>\n",
       "      <td>8.000000</td>\n",
       "      <td>6.000000</td>\n",
       "      <td>512.329200</td>\n",
       "    </tr>\n",
       "  </tbody>\n",
       "</table>\n",
       "</div>"
      ],
      "text/plain": [
       "       PassengerId    Survived      Pclass         Age       SibSp  \\\n",
       "count   891.000000  891.000000  891.000000  714.000000  891.000000   \n",
       "mean    446.000000    0.383838    2.308642   29.699118    0.523008   \n",
       "std     257.353842    0.486592    0.836071   14.526497    1.102743   \n",
       "min       1.000000    0.000000    1.000000    0.420000    0.000000   \n",
       "25%     223.500000    0.000000    2.000000   20.125000    0.000000   \n",
       "50%     446.000000    0.000000    3.000000   28.000000    0.000000   \n",
       "75%     668.500000    1.000000    3.000000   38.000000    1.000000   \n",
       "max     891.000000    1.000000    3.000000   80.000000    8.000000   \n",
       "\n",
       "            Parch        Fare  \n",
       "count  891.000000  891.000000  \n",
       "mean     0.381594   32.204208  \n",
       "std      0.806057   49.693429  \n",
       "min      0.000000    0.000000  \n",
       "25%      0.000000    7.910400  \n",
       "50%      0.000000   14.454200  \n",
       "75%      0.000000   31.000000  \n",
       "max      6.000000  512.329200  "
      ]
     },
     "execution_count": 4,
     "metadata": {},
     "output_type": "execute_result"
    }
   ],
   "source": [
    "train_set.describe()"
   ]
  },
  {
   "cell_type": "markdown",
   "metadata": {
    "papermill": {
     "duration": 0.019523,
     "end_time": "2020-11-23T19:47:48.965559",
     "exception": false,
     "start_time": "2020-11-23T19:47:48.946036",
     "status": "completed"
    },
    "tags": []
   },
   "source": [
    "The coloumns PassengerId, Name of passenger, Ticket and Cabin number will be dropped as they have no effect on the survival rate.\n",
    "These features are redundant."
   ]
  },
  {
   "cell_type": "code",
   "execution_count": 5,
   "metadata": {
    "execution": {
     "iopub.execute_input": "2020-11-23T19:47:49.023017Z",
     "iopub.status.busy": "2020-11-23T19:47:49.014214Z",
     "iopub.status.idle": "2020-11-23T19:47:49.033199Z",
     "shell.execute_reply": "2020-11-23T19:47:49.032550Z"
    },
    "papermill": {
     "duration": 0.045333,
     "end_time": "2020-11-23T19:47:49.033352",
     "exception": false,
     "start_time": "2020-11-23T19:47:48.988019",
     "status": "completed"
    },
    "tags": []
   },
   "outputs": [
    {
     "data": {
      "text/html": [
       "<div>\n",
       "<style scoped>\n",
       "    .dataframe tbody tr th:only-of-type {\n",
       "        vertical-align: middle;\n",
       "    }\n",
       "\n",
       "    .dataframe tbody tr th {\n",
       "        vertical-align: top;\n",
       "    }\n",
       "\n",
       "    .dataframe thead th {\n",
       "        text-align: right;\n",
       "    }\n",
       "</style>\n",
       "<table border=\"1\" class=\"dataframe\">\n",
       "  <thead>\n",
       "    <tr style=\"text-align: right;\">\n",
       "      <th></th>\n",
       "      <th>Survived</th>\n",
       "      <th>Pclass</th>\n",
       "      <th>Sex</th>\n",
       "      <th>Age</th>\n",
       "      <th>SibSp</th>\n",
       "      <th>Parch</th>\n",
       "      <th>Fare</th>\n",
       "      <th>Embarked</th>\n",
       "    </tr>\n",
       "  </thead>\n",
       "  <tbody>\n",
       "    <tr>\n",
       "      <th>0</th>\n",
       "      <td>0</td>\n",
       "      <td>3</td>\n",
       "      <td>male</td>\n",
       "      <td>22.0</td>\n",
       "      <td>1</td>\n",
       "      <td>0</td>\n",
       "      <td>7.2500</td>\n",
       "      <td>S</td>\n",
       "    </tr>\n",
       "    <tr>\n",
       "      <th>1</th>\n",
       "      <td>1</td>\n",
       "      <td>1</td>\n",
       "      <td>female</td>\n",
       "      <td>38.0</td>\n",
       "      <td>1</td>\n",
       "      <td>0</td>\n",
       "      <td>71.2833</td>\n",
       "      <td>C</td>\n",
       "    </tr>\n",
       "    <tr>\n",
       "      <th>2</th>\n",
       "      <td>1</td>\n",
       "      <td>3</td>\n",
       "      <td>female</td>\n",
       "      <td>26.0</td>\n",
       "      <td>0</td>\n",
       "      <td>0</td>\n",
       "      <td>7.9250</td>\n",
       "      <td>S</td>\n",
       "    </tr>\n",
       "    <tr>\n",
       "      <th>3</th>\n",
       "      <td>1</td>\n",
       "      <td>1</td>\n",
       "      <td>female</td>\n",
       "      <td>35.0</td>\n",
       "      <td>1</td>\n",
       "      <td>0</td>\n",
       "      <td>53.1000</td>\n",
       "      <td>S</td>\n",
       "    </tr>\n",
       "    <tr>\n",
       "      <th>4</th>\n",
       "      <td>0</td>\n",
       "      <td>3</td>\n",
       "      <td>male</td>\n",
       "      <td>35.0</td>\n",
       "      <td>0</td>\n",
       "      <td>0</td>\n",
       "      <td>8.0500</td>\n",
       "      <td>S</td>\n",
       "    </tr>\n",
       "  </tbody>\n",
       "</table>\n",
       "</div>"
      ],
      "text/plain": [
       "   Survived  Pclass     Sex   Age  SibSp  Parch     Fare Embarked\n",
       "0         0       3    male  22.0      1      0   7.2500        S\n",
       "1         1       1  female  38.0      1      0  71.2833        C\n",
       "2         1       3  female  26.0      0      0   7.9250        S\n",
       "3         1       1  female  35.0      1      0  53.1000        S\n",
       "4         0       3    male  35.0      0      0   8.0500        S"
      ]
     },
     "execution_count": 5,
     "metadata": {},
     "output_type": "execute_result"
    }
   ],
   "source": [
    "for dataset in train_test:\n",
    "    dataset.drop(['PassengerId','Name','Ticket','Cabin'], axis=1,inplace=True)\n",
    "train_set.head()"
   ]
  },
  {
   "cell_type": "markdown",
   "metadata": {
    "papermill": {
     "duration": 0.021373,
     "end_time": "2020-11-23T19:47:49.075427",
     "exception": false,
     "start_time": "2020-11-23T19:47:49.054054",
     "status": "completed"
    },
    "tags": []
   },
   "source": [
    "Next, we will resort to some data visualization techniques to study the features. As an example, the number of survivors and the number of dead are\n",
    "plotted in bar graph."
   ]
  },
  {
   "cell_type": "code",
   "execution_count": 6,
   "metadata": {
    "execution": {
     "iopub.execute_input": "2020-11-23T19:47:49.138081Z",
     "iopub.status.busy": "2020-11-23T19:47:49.137126Z",
     "iopub.status.idle": "2020-11-23T19:47:49.334302Z",
     "shell.execute_reply": "2020-11-23T19:47:49.333014Z"
    },
    "papermill": {
     "duration": 0.235499,
     "end_time": "2020-11-23T19:47:49.334585",
     "exception": false,
     "start_time": "2020-11-23T19:47:49.099086",
     "status": "completed"
    },
    "tags": []
   },
   "outputs": [
    {
     "data": {
      "text/plain": [
       "Text(0, 0.5, 'Count')"
      ]
     },
     "execution_count": 6,
     "metadata": {},
     "output_type": "execute_result"
    },
    {
     "data": {
      "image/png": "[encoded data removed]",
      "text/plain": [
       "<Figure size 432x288 with 1 Axes>"
      ]
     },
     "metadata": {
      "needs_background": "light"
     },
     "output_type": "display_data"
    }
   ],
   "source": [
    "count_classes = pd.value_counts(train_set['Survived'], sort=True).sort_index()\n",
    "count_classes.plot(kind = 'bar')\n",
    "plt.title('Survival rate')\n",
    "plt.xlabel('Value')\n",
    "plt.ylabel('Count')"
   ]
  },
  {
   "cell_type": "markdown",
   "metadata": {
    "papermill": {
     "duration": 0.019576,
     "end_time": "2020-11-23T19:47:49.374841",
     "exception": false,
     "start_time": "2020-11-23T19:47:49.355265",
     "status": "completed"
    },
    "tags": []
   },
   "source": [
    "We should check whether any of the features are correlated.\n",
    "A high value for correlation between two features indicates that using either one of these features should suffice.\n",
    "The heatmap below shows that neither of the features are heavily correlated and hence each will be treated independently."
   ]
  },
  {
   "cell_type": "code",
   "execution_count": 7,
   "metadata": {
    "execution": {
     "iopub.execute_input": "2020-11-23T19:47:49.431943Z",
     "iopub.status.busy": "2020-11-23T19:47:49.431136Z",
     "iopub.status.idle": "2020-11-23T19:47:49.870128Z",
     "shell.execute_reply": "2020-11-23T19:47:49.869488Z"
    },
    "papermill": {
     "duration": 0.473463,
     "end_time": "2020-11-23T19:47:49.870241",
     "exception": false,
     "start_time": "2020-11-23T19:47:49.396778",
     "status": "completed"
    },
    "tags": []
   },
   "outputs": [
    {
     "data": {
      "image/png": "[encoded data removed]",
      "text/plain": [
       "<Figure size 720x504 with 2 Axes>"
      ]
     },
     "metadata": {
      "needs_background": "light"
     },
     "output_type": "display_data"
    }
   ],
   "source": [
    "corrmat_train = train_set.corr()\n",
    "fig = plt.figure(figsize=(10,7))\n",
    "sns.heatmap(corrmat_train,vmax=1,square=True,annot=True,vmin=-1)\n",
    "plt.show()"
   ]
  },
  {
   "cell_type": "markdown",
   "metadata": {
    "papermill": {
     "duration": 0.02072,
     "end_time": "2020-11-23T19:47:49.911898",
     "exception": false,
     "start_time": "2020-11-23T19:47:49.891178",
     "status": "completed"
    },
    "tags": []
   },
   "source": [
    "Histograms are plotted to get a general idea of the passenger count for each of the coloumns. The conclusions are;\n",
    "1. Max. number of passengers were travelling in class 3\n",
    "2. The median age of passengers was around 30 years\n",
    "3. A majority of the passengers didn't have siblings on board. \n",
    "4. A majority of the passengers didn't have parents on board."
   ]
  },
  {
   "cell_type": "code",
   "execution_count": 8,
   "metadata": {
    "execution": {
     "iopub.execute_input": "2020-11-23T19:47:49.968978Z",
     "iopub.status.busy": "2020-11-23T19:47:49.967646Z",
     "iopub.status.idle": "2020-11-23T19:47:51.239917Z",
     "shell.execute_reply": "2020-11-23T19:47:51.238691Z"
    },
    "papermill": {
     "duration": 1.3071,
     "end_time": "2020-11-23T19:47:51.240109",
     "exception": false,
     "start_time": "2020-11-23T19:47:49.933009",
     "status": "completed"
    },
    "tags": []
   },
   "outputs": [
    {
     "data": {
      "image/png": "[encoded data removed]",
      "text/plain": [
       "<Figure size 720x720 with 6 Axes>"
      ]
     },
     "metadata": {
      "needs_background": "light"
     },
     "output_type": "display_data"
    }
   ],
   "source": [
    "train_set.hist(bins=50,figsize=(10,10))\n",
    "plt.show()"
   ]
  },
  {
   "cell_type": "markdown",
   "metadata": {
    "papermill": {
     "duration": 0.027764,
     "end_time": "2020-11-23T19:47:51.313759",
     "exception": false,
     "start_time": "2020-11-23T19:47:51.285995",
     "status": "completed"
    },
    "tags": []
   },
   "source": [
    "Count plots are plotted to get an intuition as to which passengers survived and which died. Conclusions;\n",
    "1. A majority of the passengers who died were male.\n",
    "2. Most casualities were in from class 3.\n",
    "3. Majority of the passengers who died had neither sibligs nor parents on board."
   ]
  },
  {
   "cell_type": "code",
   "execution_count": 9,
   "metadata": {
    "execution": {
     "iopub.execute_input": "2020-11-23T19:47:51.375611Z",
     "iopub.status.busy": "2020-11-23T19:47:51.374834Z",
     "iopub.status.idle": "2020-11-23T19:47:52.128462Z",
     "shell.execute_reply": "2020-11-23T19:47:52.127752Z"
    },
    "papermill": {
     "duration": 0.792875,
     "end_time": "2020-11-23T19:47:52.128595",
     "exception": false,
     "start_time": "2020-11-23T19:47:51.335720",
     "status": "completed"
    },
    "tags": []
   },
   "outputs": [
    {
     "data": {
      "text/plain": [
       "<matplotlib.axes._subplots.AxesSubplot at 0x7f49ff7d9310>"
      ]
     },
     "execution_count": 9,
     "metadata": {},
     "output_type": "execute_result"
    },
    {
     "data": {
      "image/png": "[encoded data removed]",
      "text/plain": [
       "<Figure size 1440x360 with 5 Axes>"
      ]
     },
     "metadata": {
      "needs_background": "light"
     },
     "output_type": "display_data"
    }
   ],
   "source": [
    "fig,ax = plt.subplots(1,5,figsize=(20,5))\n",
    "sns.countplot('Survived', data = train_set,hue='Sex',ax=ax[0])\n",
    "sns.countplot('Pclass', data = train_set,hue='Survived',ax=ax[1])\n",
    "sns.countplot('SibSp', data = train_set,hue='Survived',ax=ax[2])\n",
    "sns.countplot('Parch', data = train_set,hue='Survived',ax=ax[3])"
   ]
  },
  {
   "cell_type": "markdown",
   "metadata": {
    "papermill": {
     "duration": 0.025544,
     "end_time": "2020-11-23T19:47:52.178511",
     "exception": false,
     "start_time": "2020-11-23T19:47:52.152967",
     "status": "completed"
    },
    "tags": []
   },
   "source": [
    "A FacetGrid is used to analyze age and survival rate correlation. Majority of the passengers who died were between the ages of 16-40,\n",
    "while infants and the elderly mostly survived. "
   ]
  },
  {
   "cell_type": "code",
   "execution_count": 10,
   "metadata": {
    "execution": {
     "iopub.execute_input": "2020-11-23T19:47:52.244293Z",
     "iopub.status.busy": "2020-11-23T19:47:52.238983Z",
     "iopub.status.idle": "2020-11-23T19:47:52.792523Z",
     "shell.execute_reply": "2020-11-23T19:47:52.791778Z"
    },
    "papermill": {
     "duration": 0.587588,
     "end_time": "2020-11-23T19:47:52.792664",
     "exception": false,
     "start_time": "2020-11-23T19:47:52.205076",
     "status": "completed"
    },
    "tags": []
   },
   "outputs": [
    {
     "data": {
      "text/plain": [
       "<seaborn.axisgrid.FacetGrid at 0x7f49fd43b890>"
      ]
     },
     "execution_count": 10,
     "metadata": {},
     "output_type": "execute_result"
    },
    {
     "data": {
      "image/png": "[encoded data removed]",
      "text/plain": [
       "<Figure size 432x216 with 2 Axes>"
      ]
     },
     "metadata": {
      "needs_background": "light"
     },
     "output_type": "display_data"
    }
   ],
   "source": [
    "age_s = sns.FacetGrid(train_set,col='Survived')\n",
    "age_s.map(plt.hist,'Age',bins=25)"
   ]
  },
  {
   "cell_type": "code",
   "execution_count": 11,
   "metadata": {
    "execution": {
     "iopub.execute_input": "2020-11-23T19:47:52.856867Z",
     "iopub.status.busy": "2020-11-23T19:47:52.856085Z",
     "iopub.status.idle": "2020-11-23T19:47:53.193498Z",
     "shell.execute_reply": "2020-11-23T19:47:53.192945Z"
    },
    "papermill": {
     "duration": 0.374963,
     "end_time": "2020-11-23T19:47:53.193616",
     "exception": false,
     "start_time": "2020-11-23T19:47:52.818653",
     "status": "completed"
    },
    "tags": []
   },
   "outputs": [
    {
     "data": {
      "text/plain": [
       "<seaborn.axisgrid.FacetGrid at 0x7f49ff576210>"
      ]
     },
     "execution_count": 11,
     "metadata": {},
     "output_type": "execute_result"
    },
    {
     "data": {
      "image/png": "[encoded data removed]",
      "text/plain": [
       "<Figure size 432x216 with 2 Axes>"
      ]
     },
     "metadata": {
      "needs_background": "light"
     },
     "output_type": "display_data"
    }
   ],
   "source": [
    "fare_s = sns.FacetGrid(train_set,col='Survived')\n",
    "fare_s.map(plt.hist,'Fare',bins=10)"
   ]
  },
  {
   "cell_type": "markdown",
   "metadata": {
    "papermill": {
     "duration": 0.025673,
     "end_time": "2020-11-23T19:47:53.244431",
     "exception": false,
     "start_time": "2020-11-23T19:47:53.218758",
     "status": "completed"
    },
    "tags": []
   },
   "source": [
    "As a next step, we need to convert string data into numeric data. These are the features, Sex and Embarkment."
   ]
  },
  {
   "cell_type": "code",
   "execution_count": 12,
   "metadata": {
    "execution": {
     "iopub.execute_input": "2020-11-23T19:47:53.307087Z",
     "iopub.status.busy": "2020-11-23T19:47:53.306034Z",
     "iopub.status.idle": "2020-11-23T19:47:53.309783Z",
     "shell.execute_reply": "2020-11-23T19:47:53.309250Z"
    },
    "papermill": {
     "duration": 0.038328,
     "end_time": "2020-11-23T19:47:53.309912",
     "exception": false,
     "start_time": "2020-11-23T19:47:53.271584",
     "status": "completed"
    },
    "tags": []
   },
   "outputs": [],
   "source": [
    "for dataset in train_test:\n",
    "    dataset['Sex'] = dataset['Sex'].map({'male':1,'female':0}).astype(int)"
   ]
  },
  {
   "cell_type": "code",
   "execution_count": 13,
   "metadata": {
    "execution": {
     "iopub.execute_input": "2020-11-23T19:47:53.373640Z",
     "iopub.status.busy": "2020-11-23T19:47:53.372870Z",
     "iopub.status.idle": "2020-11-23T19:47:53.376108Z",
     "shell.execute_reply": "2020-11-23T19:47:53.375476Z"
    },
    "papermill": {
     "duration": 0.039159,
     "end_time": "2020-11-23T19:47:53.376223",
     "exception": false,
     "start_time": "2020-11-23T19:47:53.337064",
     "status": "completed"
    },
    "tags": []
   },
   "outputs": [],
   "source": [
    "for dataset in train_test:\n",
    "    dataset['Embarked'] = dataset['Embarked'].fillna(method='ffill')\n",
    "    dataset['Embarked'] = dataset['Embarked'].map({'C':0,'S':1,'Q':2}).astype(int)"
   ]
  },
  {
   "cell_type": "markdown",
   "metadata": {
    "papermill": {
     "duration": 0.025632,
     "end_time": "2020-11-23T19:47:53.427302",
     "exception": false,
     "start_time": "2020-11-23T19:47:53.401670",
     "status": "completed"
    },
    "tags": []
   },
   "source": [
    "We need to change the value in the 'Age' coloumn. The values have split into four ranges and assigned a number.\n",
    "Similarly the fare, siblings and parents values are grouped by ranges."
   ]
  },
  {
   "cell_type": "code",
   "execution_count": 14,
   "metadata": {
    "execution": {
     "iopub.execute_input": "2020-11-23T19:47:53.487927Z",
     "iopub.status.busy": "2020-11-23T19:47:53.486885Z",
     "iopub.status.idle": "2020-11-23T19:47:53.505485Z",
     "shell.execute_reply": "2020-11-23T19:47:53.504709Z"
    },
    "papermill": {
     "duration": 0.052943,
     "end_time": "2020-11-23T19:47:53.505613",
     "exception": false,
     "start_time": "2020-11-23T19:47:53.452670",
     "status": "completed"
    },
    "tags": []
   },
   "outputs": [],
   "source": [
    "for dataset in train_test:\n",
    "    dataset['Age'] = pd.cut(dataset['Age'], bins=[0,15,35,50,80], labels=[1,2,3,4])\n",
    "    dataset['Fare'] = pd.cut(dataset['Fare'], bins=[0,7,14,300,600], labels=[1,2,3,4])\n",
    "    dataset['SibSp'] = pd.cut(dataset['SibSp'], bins=[-0.001,0,2,4,8], labels=[0,1,2,3],include_lowest=True)\n",
    "    dataset['Parch'] = pd.cut(dataset['Parch'], bins=[-0.001,0,1,2,6], labels=[0,1,2,3],include_lowest=True)\n"
   ]
  },
  {
   "cell_type": "code",
   "execution_count": 15,
   "metadata": {
    "execution": {
     "iopub.execute_input": "2020-11-23T19:47:53.571770Z",
     "iopub.status.busy": "2020-11-23T19:47:53.570924Z",
     "iopub.status.idle": "2020-11-23T19:47:53.575071Z",
     "shell.execute_reply": "2020-11-23T19:47:53.575790Z"
    },
    "papermill": {
     "duration": 0.044561,
     "end_time": "2020-11-23T19:47:53.575964",
     "exception": false,
     "start_time": "2020-11-23T19:47:53.531403",
     "status": "completed"
    },
    "tags": []
   },
   "outputs": [
    {
     "data": {
      "text/html": [
       "<div>\n",
       "<style scoped>\n",
       "    .dataframe tbody tr th:only-of-type {\n",
       "        vertical-align: middle;\n",
       "    }\n",
       "\n",
       "    .dataframe tbody tr th {\n",
       "        vertical-align: top;\n",
       "    }\n",
       "\n",
       "    .dataframe thead th {\n",
       "        text-align: right;\n",
       "    }\n",
       "</style>\n",
       "<table border=\"1\" class=\"dataframe\">\n",
       "  <thead>\n",
       "    <tr style=\"text-align: right;\">\n",
       "      <th></th>\n",
       "      <th>Survived</th>\n",
       "      <th>Pclass</th>\n",
       "      <th>Sex</th>\n",
       "      <th>Age</th>\n",
       "      <th>SibSp</th>\n",
       "      <th>Parch</th>\n",
       "      <th>Fare</th>\n",
       "      <th>Embarked</th>\n",
       "    </tr>\n",
       "  </thead>\n",
       "  <tbody>\n",
       "    <tr>\n",
       "      <th>0</th>\n",
       "      <td>0</td>\n",
       "      <td>3</td>\n",
       "      <td>1</td>\n",
       "      <td>2</td>\n",
       "      <td>1</td>\n",
       "      <td>0</td>\n",
       "      <td>2</td>\n",
       "      <td>1</td>\n",
       "    </tr>\n",
       "    <tr>\n",
       "      <th>1</th>\n",
       "      <td>1</td>\n",
       "      <td>1</td>\n",
       "      <td>0</td>\n",
       "      <td>3</td>\n",
       "      <td>1</td>\n",
       "      <td>0</td>\n",
       "      <td>3</td>\n",
       "      <td>0</td>\n",
       "    </tr>\n",
       "    <tr>\n",
       "      <th>2</th>\n",
       "      <td>1</td>\n",
       "      <td>3</td>\n",
       "      <td>0</td>\n",
       "      <td>2</td>\n",
       "      <td>0</td>\n",
       "      <td>0</td>\n",
       "      <td>2</td>\n",
       "      <td>1</td>\n",
       "    </tr>\n",
       "    <tr>\n",
       "      <th>3</th>\n",
       "      <td>1</td>\n",
       "      <td>1</td>\n",
       "      <td>0</td>\n",
       "      <td>2</td>\n",
       "      <td>1</td>\n",
       "      <td>0</td>\n",
       "      <td>3</td>\n",
       "      <td>1</td>\n",
       "    </tr>\n",
       "    <tr>\n",
       "      <th>4</th>\n",
       "      <td>0</td>\n",
       "      <td>3</td>\n",
       "      <td>1</td>\n",
       "      <td>2</td>\n",
       "      <td>0</td>\n",
       "      <td>0</td>\n",
       "      <td>2</td>\n",
       "      <td>1</td>\n",
       "    </tr>\n",
       "  </tbody>\n",
       "</table>\n",
       "</div>"
      ],
      "text/plain": [
       "   Survived  Pclass  Sex Age SibSp Parch Fare  Embarked\n",
       "0         0       3    1   2     1     0    2         1\n",
       "1         1       1    0   3     1     0    3         0\n",
       "2         1       3    0   2     0     0    2         1\n",
       "3         1       1    0   2     1     0    3         1\n",
       "4         0       3    1   2     0     0    2         1"
      ]
     },
     "execution_count": 15,
     "metadata": {},
     "output_type": "execute_result"
    }
   ],
   "source": [
    "train_set.head()"
   ]
  },
  {
   "cell_type": "code",
   "execution_count": 16,
   "metadata": {
    "execution": {
     "iopub.execute_input": "2020-11-23T19:47:53.644681Z",
     "iopub.status.busy": "2020-11-23T19:47:53.643944Z",
     "iopub.status.idle": "2020-11-23T19:47:53.648406Z",
     "shell.execute_reply": "2020-11-23T19:47:53.647758Z"
    },
    "papermill": {
     "duration": 0.044723,
     "end_time": "2020-11-23T19:47:53.648524",
     "exception": false,
     "start_time": "2020-11-23T19:47:53.603801",
     "status": "completed"
    },
    "tags": []
   },
   "outputs": [
    {
     "data": {
      "text/html": [
       "<div>\n",
       "<style scoped>\n",
       "    .dataframe tbody tr th:only-of-type {\n",
       "        vertical-align: middle;\n",
       "    }\n",
       "\n",
       "    .dataframe tbody tr th {\n",
       "        vertical-align: top;\n",
       "    }\n",
       "\n",
       "    .dataframe thead th {\n",
       "        text-align: right;\n",
       "    }\n",
       "</style>\n",
       "<table border=\"1\" class=\"dataframe\">\n",
       "  <thead>\n",
       "    <tr style=\"text-align: right;\">\n",
       "      <th></th>\n",
       "      <th>Pclass</th>\n",
       "      <th>Sex</th>\n",
       "      <th>Age</th>\n",
       "      <th>SibSp</th>\n",
       "      <th>Parch</th>\n",
       "      <th>Fare</th>\n",
       "      <th>Embarked</th>\n",
       "    </tr>\n",
       "  </thead>\n",
       "  <tbody>\n",
       "    <tr>\n",
       "      <th>0</th>\n",
       "      <td>3</td>\n",
       "      <td>1</td>\n",
       "      <td>2</td>\n",
       "      <td>0</td>\n",
       "      <td>0</td>\n",
       "      <td>2</td>\n",
       "      <td>2</td>\n",
       "    </tr>\n",
       "    <tr>\n",
       "      <th>1</th>\n",
       "      <td>3</td>\n",
       "      <td>0</td>\n",
       "      <td>3</td>\n",
       "      <td>1</td>\n",
       "      <td>0</td>\n",
       "      <td>1</td>\n",
       "      <td>1</td>\n",
       "    </tr>\n",
       "    <tr>\n",
       "      <th>2</th>\n",
       "      <td>2</td>\n",
       "      <td>1</td>\n",
       "      <td>4</td>\n",
       "      <td>0</td>\n",
       "      <td>0</td>\n",
       "      <td>2</td>\n",
       "      <td>2</td>\n",
       "    </tr>\n",
       "    <tr>\n",
       "      <th>3</th>\n",
       "      <td>3</td>\n",
       "      <td>1</td>\n",
       "      <td>2</td>\n",
       "      <td>0</td>\n",
       "      <td>0</td>\n",
       "      <td>2</td>\n",
       "      <td>1</td>\n",
       "    </tr>\n",
       "    <tr>\n",
       "      <th>4</th>\n",
       "      <td>3</td>\n",
       "      <td>0</td>\n",
       "      <td>2</td>\n",
       "      <td>1</td>\n",
       "      <td>1</td>\n",
       "      <td>2</td>\n",
       "      <td>1</td>\n",
       "    </tr>\n",
       "    <tr>\n",
       "      <th>5</th>\n",
       "      <td>3</td>\n",
       "      <td>1</td>\n",
       "      <td>1</td>\n",
       "      <td>0</td>\n",
       "      <td>0</td>\n",
       "      <td>2</td>\n",
       "      <td>1</td>\n",
       "    </tr>\n",
       "    <tr>\n",
       "      <th>6</th>\n",
       "      <td>3</td>\n",
       "      <td>0</td>\n",
       "      <td>2</td>\n",
       "      <td>0</td>\n",
       "      <td>0</td>\n",
       "      <td>2</td>\n",
       "      <td>2</td>\n",
       "    </tr>\n",
       "    <tr>\n",
       "      <th>7</th>\n",
       "      <td>2</td>\n",
       "      <td>1</td>\n",
       "      <td>2</td>\n",
       "      <td>1</td>\n",
       "      <td>1</td>\n",
       "      <td>3</td>\n",
       "      <td>1</td>\n",
       "    </tr>\n",
       "    <tr>\n",
       "      <th>8</th>\n",
       "      <td>3</td>\n",
       "      <td>0</td>\n",
       "      <td>2</td>\n",
       "      <td>0</td>\n",
       "      <td>0</td>\n",
       "      <td>2</td>\n",
       "      <td>0</td>\n",
       "    </tr>\n",
       "    <tr>\n",
       "      <th>9</th>\n",
       "      <td>3</td>\n",
       "      <td>1</td>\n",
       "      <td>2</td>\n",
       "      <td>1</td>\n",
       "      <td>0</td>\n",
       "      <td>3</td>\n",
       "      <td>1</td>\n",
       "    </tr>\n",
       "  </tbody>\n",
       "</table>\n",
       "</div>"
      ],
      "text/plain": [
       "   Pclass  Sex Age SibSp Parch Fare  Embarked\n",
       "0       3    1   2     0     0    2         2\n",
       "1       3    0   3     1     0    1         1\n",
       "2       2    1   4     0     0    2         2\n",
       "3       3    1   2     0     0    2         1\n",
       "4       3    0   2     1     1    2         1\n",
       "5       3    1   1     0     0    2         1\n",
       "6       3    0   2     0     0    2         2\n",
       "7       2    1   2     1     1    3         1\n",
       "8       3    0   2     0     0    2         0\n",
       "9       3    1   2     1     0    3         1"
      ]
     },
     "execution_count": 16,
     "metadata": {},
     "output_type": "execute_result"
    }
   ],
   "source": [
    "test_set.head(10)"
   ]
  },
  {
   "cell_type": "markdown",
   "metadata": {
    "papermill": {
     "duration": 0.026965,
     "end_time": "2020-11-23T19:47:53.702511",
     "exception": false,
     "start_time": "2020-11-23T19:47:53.675546",
     "status": "completed"
    },
    "tags": []
   },
   "source": [
    "The first machine learnning algorithm we will use is the linear regression algorithm."
   ]
  },
  {
   "cell_type": "code",
   "execution_count": 17,
   "metadata": {
    "execution": {
     "iopub.execute_input": "2020-11-23T19:47:53.765765Z",
     "iopub.status.busy": "2020-11-23T19:47:53.763670Z",
     "iopub.status.idle": "2020-11-23T19:47:53.771360Z",
     "shell.execute_reply": "2020-11-23T19:47:53.770778Z"
    },
    "papermill": {
     "duration": 0.041551,
     "end_time": "2020-11-23T19:47:53.771507",
     "exception": false,
     "start_time": "2020-11-23T19:47:53.729956",
     "status": "completed"
    },
    "tags": []
   },
   "outputs": [
    {
     "data": {
      "text/plain": [
       "((891, 7), (891,), (418, 7))"
      ]
     },
     "execution_count": 17,
     "metadata": {},
     "output_type": "execute_result"
    }
   ],
   "source": [
    "X_train = train_set.drop('Survived',axis=1)\n",
    "Y_train = train_set['Survived']\n",
    "X_test = test_set\n",
    "X_train.shape, Y_train.shape, X_test.shape\n"
   ]
  },
  {
   "cell_type": "code",
   "execution_count": 18,
   "metadata": {
    "execution": {
     "iopub.execute_input": "2020-11-23T19:47:53.838198Z",
     "iopub.status.busy": "2020-11-23T19:47:53.837516Z",
     "iopub.status.idle": "2020-11-23T19:47:53.866411Z",
     "shell.execute_reply": "2020-11-23T19:47:53.867088Z"
    },
    "papermill": {
     "duration": 0.067286,
     "end_time": "2020-11-23T19:47:53.867268",
     "exception": false,
     "start_time": "2020-11-23T19:47:53.799982",
     "status": "completed"
    },
    "tags": []
   },
   "outputs": [
    {
     "name": "stderr",
     "output_type": "stream",
     "text": [
      "/opt/conda/lib/python3.7/site-packages/sklearn/linear_model/_logistic.py:764: ConvergenceWarning: lbfgs failed to converge (status=2):\n",
      "ABNORMAL_TERMINATION_IN_LNSRCH.\n",
      "\n",
      "Increase the number of iterations (max_iter) or scale the data as shown in:\n",
      "    https://scikit-learn.org/stable/modules/preprocessing.html\n",
      "Please also refer to the documentation for alternative solver options:\n",
      "    https://scikit-learn.org/stable/modules/linear_model.html#logistic-regression\n",
      "  extra_warning_msg=_LOGISTIC_SOLVER_CONVERGENCE_MSG)\n"
     ]
    },
    {
     "data": {
      "text/plain": [
       "61.62"
      ]
     },
     "execution_count": 18,
     "metadata": {},
     "output_type": "execute_result"
    }
   ],
   "source": [
    "#Logistic regression for supervised learning\n",
    "log_reg = LogisticRegression()\n",
    "log_reg.fit(X_train,Y_train)\n",
    "Y_pred_test = log_reg.predict(X_test)\n",
    "acc_log = round(log_reg.score(X_train, Y_train) * 100, 2)\n",
    "acc_log"
   ]
  },
  {
   "cell_type": "markdown",
   "metadata": {
    "papermill": {
     "duration": 0.031086,
     "end_time": "2020-11-23T19:47:53.934729",
     "exception": false,
     "start_time": "2020-11-23T19:47:53.903643",
     "status": "completed"
    },
    "tags": []
   },
   "source": [
    " Next, we use the K nieghbors, SVM and decision trees to calculate the accuracy of the test set."
   ]
  },
  {
   "cell_type": "code",
   "execution_count": 19,
   "metadata": {
    "execution": {
     "iopub.execute_input": "2020-11-23T19:47:54.015147Z",
     "iopub.status.busy": "2020-11-23T19:47:54.014086Z",
     "iopub.status.idle": "2020-11-23T19:47:54.082667Z",
     "shell.execute_reply": "2020-11-23T19:47:54.081925Z"
    },
    "papermill": {
     "duration": 0.115936,
     "end_time": "2020-11-23T19:47:54.082795",
     "exception": false,
     "start_time": "2020-11-23T19:47:53.966859",
     "status": "completed"
    },
    "tags": []
   },
   "outputs": [
    {
     "data": {
      "text/plain": [
       "85.97"
      ]
     },
     "execution_count": 19,
     "metadata": {},
     "output_type": "execute_result"
    }
   ],
   "source": [
    "knn = KNeighborsClassifier(n_neighbors = 3)\n",
    "knn.fit(X_train,Y_train)\n",
    "Y_pred = knn.predict(X_test)\n",
    "acc_knn = round(knn.score(X_train, Y_train) * 100, 2)\n",
    "acc_knn"
   ]
  },
  {
   "cell_type": "code",
   "execution_count": 20,
   "metadata": {
    "execution": {
     "iopub.execute_input": "2020-11-23T19:47:54.154822Z",
     "iopub.status.busy": "2020-11-23T19:47:54.153819Z",
     "iopub.status.idle": "2020-11-23T19:47:54.225602Z",
     "shell.execute_reply": "2020-11-23T19:47:54.224990Z"
    },
    "papermill": {
     "duration": 0.113602,
     "end_time": "2020-11-23T19:47:54.225728",
     "exception": false,
     "start_time": "2020-11-23T19:47:54.112126",
     "status": "completed"
    },
    "tags": []
   },
   "outputs": [
    {
     "data": {
      "text/plain": [
       "85.97"
      ]
     },
     "execution_count": 20,
     "metadata": {},
     "output_type": "execute_result"
    }
   ],
   "source": [
    "svm = SVC()\n",
    "svm.fit(X_train,Y_train)\n",
    "Y_pred = svm.predict(X_test)\n",
    "acc_svm = round(knn.score(X_train, Y_train) * 100, 2)\n",
    "acc_svm"
   ]
  },
  {
   "cell_type": "code",
   "execution_count": 21,
   "metadata": {
    "execution": {
     "iopub.execute_input": "2020-11-23T19:47:54.293577Z",
     "iopub.status.busy": "2020-11-23T19:47:54.292875Z",
     "iopub.status.idle": "2020-11-23T19:47:54.309923Z",
     "shell.execute_reply": "2020-11-23T19:47:54.309253Z"
    },
    "papermill": {
     "duration": 0.05535,
     "end_time": "2020-11-23T19:47:54.310038",
     "exception": false,
     "start_time": "2020-11-23T19:47:54.254688",
     "status": "completed"
    },
    "tags": []
   },
   "outputs": [
    {
     "data": {
      "text/plain": [
       "87.88"
      ]
     },
     "execution_count": 21,
     "metadata": {},
     "output_type": "execute_result"
    }
   ],
   "source": [
    "dectree = DecisionTreeClassifier()\n",
    "dectree.fit(X_train, Y_train)\n",
    "Y_predictions = dectree.predict(X_test)\n",
    "acc_dectree = round(dectree.score(X_train, Y_train) * 100, 2)\n",
    "acc_dectree"
   ]
  },
  {
   "cell_type": "code",
   "execution_count": 22,
   "metadata": {
    "execution": {
     "iopub.execute_input": "2020-11-23T19:47:54.377871Z",
     "iopub.status.busy": "2020-11-23T19:47:54.377165Z",
     "iopub.status.idle": "2020-11-23T19:47:54.685039Z",
     "shell.execute_reply": "2020-11-23T19:47:54.684466Z"
    },
    "papermill": {
     "duration": 0.345813,
     "end_time": "2020-11-23T19:47:54.685178",
     "exception": false,
     "start_time": "2020-11-23T19:47:54.339365",
     "status": "completed"
    },
    "tags": []
   },
   "outputs": [
    {
     "name": "stdout",
     "output_type": "stream",
     "text": [
      "Your submission was successfully saved!\n"
     ]
    }
   ],
   "source": [
    "test_org = pd.read_csv('/kaggle/input/titanic/test.csv')\n",
    "output = pd.DataFrame({'PassengerId': test_org.PassengerId, 'Survived': Y_predictions})\n",
    "output.to_csv('my_submission.csv', index=False)\n",
    "print(\"Your submission was successfully saved!\")"
   ]
  },
  {
   "cell_type": "code",
   "execution_count": null,
   "metadata": {
    "papermill": {
     "duration": 0.032833,
     "end_time": "2020-11-23T19:47:54.753080",
     "exception": false,
     "start_time": "2020-11-23T19:47:54.720247",
     "status": "completed"
    },
    "tags": []
   },
   "outputs": [],
   "source": []
  }
 ],
 "metadata": {
  "kernelspec": {
   "display_name": "Python 3",
   "language": "python",
   "name": "python3"
  },
  "language_info": {
   "codemirror_mode": {
    "name": "ipython",
    "version": 3
   },
   "file_extension": ".py",
   "mimetype": "text/x-python",
   "name": "python",
   "nbconvert_exporter": "python",
   "pygments_lexer": "ipython3",
   "version": "3.7.6"
  },
  "papermill": {
   "duration": 11.983224,
   "end_time": "2020-11-23T19:47:54.899619",
   "environment_variables": {},
   "exception": null,
   "input_path": "__notebook__.ipynb",
   "output_path": "__notebook__.ipynb",
   "parameters": {},
   "start_time": "2020-11-23T19:47:42.916395",
   "version": "2.1.0"
  }
 },
 "nbformat": 4,
 "nbformat_minor": 4
}
